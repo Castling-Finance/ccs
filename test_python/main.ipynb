{
 "cells": [
  {
   "attachments": {},
   "cell_type": "markdown",
   "metadata": {},
   "source": [
    "### Cross Chain Swap Notebook"
   ]
  },
  {
   "attachments": {},
   "cell_type": "markdown",
   "metadata": {},
   "source": [
    "#### setup the providers and addresses"
   ]
  },
  {
   "cell_type": "code",
   "execution_count": 74,
   "metadata": {},
   "outputs": [],
   "source": [
    "import pandas as pd\n",
    "from web3 import Web3\n",
    "from web3.middleware import geth_poa_middleware\n",
    "import json\n",
    "import base64\n",
    "import requests\n",
    "\n",
    "provider = \"https://red-icy-yard.matic-testnet.quiknode.pro/c58ed7061d2badc4cac809cf43acb81a9a17af69/\"\n",
    "erc20_abi = json.load(open('./ERC20.json'))\n",
    "dCast_abi = json.load(open('../artifacts/contracts/CCS.sol/CrossChainSwap.json'))['abi']\n",
    "\n",
    "\n",
    "web3 = Web3(Web3.HTTPProvider(provider))\n",
    "web3.middleware_onion.inject(geth_poa_middleware, layer=0)"
   ]
  },
  {
   "cell_type": "code",
   "execution_count": 72,
   "metadata": {},
   "outputs": [],
   "source": [
    "WMATIC_address =  \"0x9c3C9283D3e44854697Cd22D3Faa240Cfb032889\"\n",
    "WETH_goerli_address = \"0xB4FBF271143F4FBf7B91A5ded31805e42b2208d6\"\n",
    "USDC_mumbai_address = \"0xA6FA4fB5f76172d178d61B04b0ecd319C5d1C0aa\"\n",
    "\n",
    "\n",
    "owner = \"0x0D80C4B7713Cb4a4A2A38c0F680f7e71d6524B88\"\n",
    "owner_pk = \"9178e0d78d0f8ea9b267274f62574d1347e97430c062e5b7d6ed9f2483e9dee5\"\n",
    "\n",
    "contract_address = \"0xAC628B2C8CdBd7F358c9E46F9E987fB22DEf64dB\""
   ]
  },
  {
   "cell_type": "code",
   "execution_count": 69,
   "metadata": {},
   "outputs": [],
   "source": [
    "wmatic = web3.eth.contract(address=WMATIC_address, abi = erc20_abi)\n",
    "usdc = web3.eth.contract(address=USDC_mumbai_address, abi = erc20_abi)\n",
    "contract = web3.eth.contract(address=contract_address, abi = dCast_abi)"
   ]
  },
  {
   "attachments": {},
   "cell_type": "markdown",
   "metadata": {},
   "source": [
    "#### approving contract to spend native tokens"
   ]
  },
  {
   "cell_type": "code",
   "execution_count": 70,
   "metadata": {},
   "outputs": [
    {
     "name": "stdout",
     "output_type": "stream",
     "text": [
      "Tx successful with hash: 0xa89317f87b8e3c14e396e862bbc13a8c49a01d50b671cbac629b5c3041d45cb5\n"
     ]
    }
   ],
   "source": [
    "txn = wmatic.functions.approve(contract_address, 1000000).buildTransaction(\n",
    "    {\n",
    "        'from': owner,\n",
    "        'nonce': web3.eth.get_transaction_count(owner),\n",
    "        'gasPrice': 20000000000\n",
    "    }\n",
    ")\n",
    "\n",
    "tx_create = web3.eth.account.sign_transaction(txn, owner_pk)\n",
    "\n",
    "tx_hash = web3.eth.send_raw_transaction(tx_create.rawTransaction)\n",
    "tx_receipt = web3.eth.wait_for_transaction_receipt(tx_hash)\n",
    "\n",
    "print(f'Tx successful with hash: { tx_receipt.transactionHash.hex() }')"
   ]
  },
  {
   "cell_type": "code",
   "execution_count": 71,
   "metadata": {},
   "outputs": [
    {
     "name": "stdout",
     "output_type": "stream",
     "text": [
      "Tx successful with hash: 0x5d2eaf0e7a5cfd65736acd7ea258c50b09de17a5b2d031a0efcb181a7cedae84\n"
     ]
    }
   ],
   "source": [
    "txn = usdc.functions.approve(contract_address, 1000000).buildTransaction(\n",
    "    {\n",
    "        'from': owner,\n",
    "        'nonce': web3.eth.get_transaction_count(owner),\n",
    "        'gasPrice': 20000000000\n",
    "    }\n",
    ")\n",
    "\n",
    "tx_create = web3.eth.account.sign_transaction(txn, owner_pk)\n",
    "\n",
    "tx_hash = web3.eth.send_raw_transaction(tx_create.rawTransaction)\n",
    "tx_receipt = web3.eth.wait_for_transaction_receipt(tx_hash)\n",
    "\n",
    "print(f'Tx successful with hash: { tx_receipt.transactionHash.hex() }')"
   ]
  },
  {
   "attachments": {},
   "cell_type": "markdown",
   "metadata": {},
   "source": [
    "### mint_for_deposit\n",
    "this function deposits USDC from your wallet and mints exact same amount of $CAST tokens "
   ]
  },
  {
   "cell_type": "code",
   "execution_count": 64,
   "metadata": {},
   "outputs": [
    {
     "name": "stdout",
     "output_type": "stream",
     "text": [
      "Tx successful with hash: 0x5fe60a86e9cc2ce3dda5a6efafa5b256923697c3a60b529d83e71fcd8f1d9697\n"
     ]
    }
   ],
   "source": [
    "txn = contract.functions.mint_for_deposit(10000).buildTransaction(\n",
    "    {\n",
    "        'from': owner,\n",
    "        'nonce': web3.eth.get_transaction_count(owner),\n",
    "        'gasPrice': 20000000000\n",
    "    }\n",
    ")\n",
    "\n",
    "tx_create = web3.eth.account.sign_transaction(txn, owner_pk)\n",
    "\n",
    "tx_hash = web3.eth.send_raw_transaction(tx_create.rawTransaction)\n",
    "tx_receipt = web3.eth.wait_for_transaction_receipt(tx_hash)\n",
    "\n",
    "print(f'Tx successful with hash: { tx_receipt.transactionHash.hex() }')"
   ]
  },
  {
   "attachments": {},
   "cell_type": "markdown",
   "metadata": {},
   "source": [
    "#### burn_for_withdrawal\n",
    "this function burns $CAST tokens from your wallet and returns USDC (if available!)"
   ]
  },
  {
   "cell_type": "code",
   "execution_count": null,
   "metadata": {},
   "outputs": [],
   "source": [
    "txn = contract.functions.burn_for_withdrawal(1000000).buildTransaction(\n",
    "    {\n",
    "        'from': owner,\n",
    "        'nonce': web3.eth.get_transaction_count(owner),\n",
    "        'gasPrice': 20000000000\n",
    "    }\n",
    ")\n",
    "\n",
    "tx_create = web3.eth.account.sign_transaction(txn, owner_pk)\n",
    "\n",
    "tx_hash = web3.eth.send_raw_transaction(tx_create.rawTransaction)\n",
    "tx_receipt = web3.eth.wait_for_transaction_receipt(tx_hash)\n",
    "\n",
    "print(f'Tx successful with hash: { tx_receipt.transactionHash.hex() }')"
   ]
  },
  {
   "attachments": {},
   "cell_type": "markdown",
   "metadata": {},
   "source": [
    "#### CCSwapStart\n",
    "this function creates new swap based on source and destination tokens and returns Wormhole VAA"
   ]
  },
  {
   "cell_type": "code",
   "execution_count": 61,
   "metadata": {},
   "outputs": [
    {
     "name": "stdout",
     "output_type": "stream",
     "text": [
      "Tx successful with hash: 0x15077f2bf757169202661bbd1ad4bd2607c022c2a13a0e1724dfec0b8ee8b7a6\n"
     ]
    }
   ],
   "source": [
    "txn = contract.functions.CCSwapStart(WMATIC_address, WETH_goerli_address, 500, 10000).buildTransaction(\n",
    "    {\n",
    "        'from': owner,\n",
    "        'nonce': web3.eth.get_transaction_count(owner),\n",
    "        'gasPrice': 20000000000\n",
    "    }\n",
    ")\n",
    "\n",
    "tx_create = web3.eth.account.sign_transaction(txn, owner_pk)\n",
    "\n",
    "tx_hash = web3.eth.send_raw_transaction(tx_create.rawTransaction)\n",
    "tx_receipt = web3.eth.wait_for_transaction_receipt(tx_hash)\n",
    "\n",
    "print(f'Tx successful with hash: { tx_receipt.transactionHash.hex() }')"
   ]
  },
  {
   "attachments": {},
   "cell_type": "markdown",
   "metadata": {},
   "source": [
    "### get signedVAA\n",
    "fetches signed VAA from Wormhole"
   ]
  },
  {
   "cell_type": "code",
   "execution_count": null,
   "metadata": {},
   "outputs": [],
   "source": [
    "wormhole_bridge = \"0x0CBE91CF822c73C2315FB05100C2F714765d5c20\"\n",
    "\n",
    "recipt = web3.eth.get_transaction_receipt(tx_hash)\n",
    "for log in web3.eth.get_transaction_receipt(\"0x7a629f5af2d391ae553716c4fcec94c1578c57babf55300c4e7d28b78aefe588\")[\"logs\"]:\n",
    "    if(log['address']==wormhole_bridge):\n",
    "        sequenceId = int(log['data'][2:66])\n",
    "        response = requests.get(\"https://wormhole-v2-testnet-api.certus.one/v1/signed_vaa/5/000000000000000000000000\"+contract_address[2:]+\"/\"+str(sequenceId)).json()['vaaBytes']\n",
    "        print(web3.toHex(bytearray(base64.b64decode(response))))"
   ]
  },
  {
   "attachments": {},
   "cell_type": "markdown",
   "metadata": {},
   "source": [
    "#### CCSwapEnd\n",
    "this function is called on the destination chain with signed VAA to complete the cross chain swap"
   ]
  },
  {
   "cell_type": "code",
   "execution_count": 280,
   "metadata": {},
   "outputs": [
    {
     "name": "stdout",
     "output_type": "stream",
     "text": [
      "Tx successful with hash: 0x60959aa5452e26bbbde019589464346564f9f61e77e4b443f872de5f83be96b2\n"
     ]
    }
   ],
   "source": [
    "provider = \"https://red-icy-yard.matic-testnet.quiknode.pro/c58ed7061d2badc4cac809cf43acb81a9a17af69/\"\n",
    "\n",
    "web3 = Web3(Web3.HTTPProvider(provider))\n",
    "contract = web3.eth.contract(address=contract_address, abi = dCast_abi)\n",
    "\n",
    "txn = contract.functions.CCSwapEnd(\"0x01000000000100ce873470d8672d9883269611fcbfc8a839b4047dbd4ce705aec3ff4035490af15df1c9b100a73da8850acafda9b0f3525ed81384250bede8cb51b4b3ed3dd48b0163e549190000000000050000000000000000000000008641c2d322ac60a659ecbadcf8cb817a82bf8cd70000000000000000c80000000000000000000000000d80c4b7713cb4a4a2a38c0f680f7e71d6524b8800000000000000000000000000000000000000000000000000000000000000c70000000000000000000000009c3c9283d3e44854697cd22d3faa240cfb0328890000000000000000000000000000000000000000000000000000000000030d40\", 500).buildTransaction(\n",
    "    {\n",
    "        'from': owner,\n",
    "        'nonce': web3.eth.get_transaction_count(owner),\n",
    "        'gasPrice': 20000000000\n",
    "    }\n",
    ")\n",
    "\n",
    "tx_create = web3.eth.account.sign_transaction(txn, owner_pk)\n",
    "\n",
    "tx_hash = web3.eth.send_raw_transaction(tx_create.rawTransaction)\n",
    "tx_receipt = web3.eth.wait_for_transaction_receipt(tx_hash)\n",
    "\n",
    "print(f'Tx successful with hash: { tx_receipt.transactionHash.hex() }')"
   ]
  }
 ],
 "metadata": {
  "kernelspec": {
   "display_name": "base",
   "language": "python",
   "name": "python3"
  },
  "language_info": {
   "codemirror_mode": {
    "name": "ipython",
    "version": 3
   },
   "file_extension": ".py",
   "mimetype": "text/x-python",
   "name": "python",
   "nbconvert_exporter": "python",
   "pygments_lexer": "ipython3",
   "version": "3.9.7"
  },
  "orig_nbformat": 4,
  "vscode": {
   "interpreter": {
    "hash": "cc74c1f99a02a99d0772c0ff7e50d2937ab06332c42924e43c302c55cfdb0062"
   }
  }
 },
 "nbformat": 4,
 "nbformat_minor": 2
}
